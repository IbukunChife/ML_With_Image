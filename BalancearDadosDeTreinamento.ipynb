{
 "cells": [
  {
   "cell_type": "code",
   "execution_count": 1,
   "metadata": {},
   "outputs": [],
   "source": [
    "import matplotlib.pyplot as plt\n",
    "import numpy as np\n",
    "import pandas as pd\n",
    "from scipy.ndimage.interpolation import shift\n",
    "from sklearn.base import BaseEstimator\n",
    "from sklearn.base import TransformerMixin\n",
    "%matplotlib inline"
   ]
  },
  {
   "cell_type": "code",
   "execution_count": 4,
   "metadata": {},
   "outputs": [],
   "source": [
    "class BalancedTrainData(BaseEstimator,TransformerMixin):\n",
    "    def __init__(self,X_Train,y_Train,attributes):\n",
    "        self.X_Train = X_Train\n",
    "        self.y_Train = y_Train\n",
    "        self.attributes = attributes\n",
    "    \n",
    "    def makeDataFrame(self,*_):\n",
    "        Df_train = pd.DataFrame(self.X_Train)\n",
    "        Df_train['label'] = self.y_Train\n",
    "        return Df_train\n",
    "    \n",
    "    def PlotData(self,df,label):\n",
    "        cont_label = Df_train[label].value_counts(sort=False)\n",
    "        plt.pie((cont_label/cont_label.sum()), labels=self.attributes)\n",
    "        plt.savefig('%s.pdf'%LabelState)\n",
    "        \n",
    "    def shift_image(self,image,dx,dy,mode=\"\"):\n",
    "        shifted_image = shift(image, [dy, dx], cval=0,mode=mode)\n",
    "        return shifted_image.reshape([-1])\n",
    "        \n",
    "    def Balanced(self,*_):\n",
    "        class_ = []\n",
    "        df_class = []\n",
    "        class_ = Df_train.target.value_counts(sort=False)\n",
    "        for i in range (len(class_)):\n",
    "            df_class.append(Df_train[Df_train['label'] == i])\n",
    "            maior = max(class_)\n",
    "        for i in range (len(class_)):\n",
    "            X_class_augmented = []\n",
    "            y_class_augmented = []\n",
    "            if class_[i] < maior:\n",
    "                indice = df_class[i][df_class[i]['label'] == i].index.tolist()\n",
    "                numberToIncrease = np.random.choice(indice, size=maior-class_[i])\n",
    "                contador = 0\n",
    "                for j in numberToIncrease:\n",
    "                    imgToShift = (df_class[i].loc[j].drop('label', axis=0).values).reshape(255,255)\n",
    "                    for dx, dy in ((50, 0), (-50, 0), (0, 50), (0, -50),(20, 0), (-25, 0), (0, 25), (0, -25)):\n",
    "                        image = self.shift_image(imgToShift, dx=dx, dy=dy,mode=\"constant\")\n",
    "                        X_class_augmented.append(image)\n",
    "                        y_class_augmented.append(i)\n",
    "                        contador+=1\n",
    "                            \n",
    "                        if(contador==maior-class_[i]):\n",
    "                            break\n",
    "                    if(contador==maior-class_[i]):\n",
    "                        break\n",
    "                X_class_augmented = np.array(X_class_augmented)\n",
    "                y_class_augmented = np.array(y_class_augmented)\n",
    "                img = pd.DataFrame(X_class_augmented)\n",
    "                img['label']=y_class_augmented\n",
    "                df_class[i]= np.concatenate((df_class[i],img),axis=0)\n",
    "            \n",
    "            return df_class\n",
    "        \n",
    "    def fit(seft,*_):\n",
    "        return self\n",
    "    \n",
    "    def transform(self,*_):\n",
    "        Df_Train = self.makeDataFrame()\n",
    "        self.PlotData(Df_Train,\"label\")\n",
    "        Df_Train = np.concatenate([d for d in self.Balanced()])\n",
    "        Df_Train = pd.DataFrame(Df_Train)\n",
    "        label= Df_Train.columns[-1]\n",
    "        self.PlotData(Df_Train,label)\n",
    "        X_Train,y_Train = Df_Train.drop(label, axis=0).values, Df_Train[label].values\n",
    "        return X_Train,y_Train      "
   ]
  },
  {
   "cell_type": "markdown",
   "metadata": {},
   "source": [
    "#### É préciso carregar primeiramente as imagens da base de dados antes de aplicar esse metodo para balancear os dados de Treinamento e aplicar no seguinte os modelos preditivos."
   ]
  },
  {
   "cell_type": "code",
   "execution_count": null,
   "metadata": {},
   "outputs": [],
   "source": [
    "# Carregar na memoria os DataSet\n",
    "Dados = load_reshape(\"TrSet1-3\",\"TeSet1-3\")\n",
    "\n",
    "#Iniciar o carregamento dos dados de Treinamento e de Test\n",
    "X_Train,y_Train,X_test,y_test = Dados.transform()\n",
    "\n",
    "# Balancear a base de Treinamento\n",
    "Bal = BalancedTrainData(X_Train,y_Train,attributes)\n",
    "X_Train , y_Train = Bal.transform()"
   ]
  },
  {
   "cell_type": "code",
   "execution_count": null,
   "metadata": {},
   "outputs": [],
   "source": []
  }
 ],
 "metadata": {
  "kernelspec": {
   "display_name": "TensorFlow",
   "language": "python",
   "name": "tensorflow"
  },
  "language_info": {
   "codemirror_mode": {
    "name": "ipython",
    "version": 3
   },
   "file_extension": ".py",
   "mimetype": "text/x-python",
   "name": "python",
   "nbconvert_exporter": "python",
   "pygments_lexer": "ipython3",
   "version": "3.7.3"
  }
 },
 "nbformat": 4,
 "nbformat_minor": 2
}
