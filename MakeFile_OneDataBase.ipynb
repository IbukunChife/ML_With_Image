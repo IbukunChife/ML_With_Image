{
 "cells": [
  {
   "cell_type": "code",
   "execution_count": 1,
   "metadata": {},
   "outputs": [],
   "source": [
    "import os\n",
    "import cv2\n",
    "import h5py\n",
    "import random\n",
    "import numpy as np\n",
    "from skimage import img_as_float32\n",
    "from sklearn.base import BaseEstimator\n",
    "from sklearn.base import TransformerMixin\n",
    "from sklearn.model_selection import StratifiedShuffleSplit"
   ]
  },
  {
   "cell_type": "code",
   "execution_count": 2,
   "metadata": {},
   "outputs": [],
   "source": [
    "class ImageProcessing(BaseEstimator,TransformerMixin):\n",
    "    \n",
    "    def __init__(self, path, attributes):\n",
    "        self.path = path\n",
    "        self.attributes = attributes\n",
    "        self.dados_X = []\n",
    "        self.dados_y = []\n",
    "    \n",
    "    def fit(seft,*_):\n",
    "        return self\n",
    "    \n",
    "    def get_files(self, attribute):\n",
    "        files = sorted([os.path.join(self.path, attribute, file)\n",
    "                        for file in os.listdir(self.path + \"/\"+attribute)\n",
    "                        if file.endswith('.jpg')])\n",
    "        random.shuffle(files)\n",
    "        return files\n",
    "    \n",
    "    def load_image(self,item):\n",
    "        '''\n",
    "            * Carregar a imagem\n",
    "            * Converter a cor em Cinza\n",
    "            * Normalizar os valores do pixel entre 0 e 1\n",
    "        '''\n",
    "        \n",
    "        image = cv2.imread(item)\n",
    "        gray = cv2.cvtColor(image, cv2.COLOR_BGR2GRAY)\n",
    "        gray = cv2.resize(gray,(255,255), interpolation=cv2.INTER_LINEAR)\n",
    "        gray = img_as_float32(gray)\n",
    "        \n",
    "        return gray\n",
    "    \n",
    "        \n",
    "    def make_sets(self, *_):\n",
    "        for attribute in self.attributes:\n",
    "            \n",
    "            dados = self.get_files(attribute)\n",
    "            \n",
    "            for item in dados:\n",
    "                image = self.load_image(item)\n",
    "                self.dados_X.append(image)\n",
    "                self.dados_y.append(attributes.index(attribute))\n",
    "\n",
    "        self.dados_X = np.array(self.dados_X)\n",
    "        self.dados_y = np.array(self.dados_y)\n",
    "        \n",
    "        \n",
    "                              \n",
    "    def save_h5(self, h5_filename, data, label, data_dtype='float64', label_dtype='int64'):\n",
    "        \n",
    "        if os.path.isfile(h5_filename):\n",
    "            raise ValueError(\"O arquivo '{}' já existe e não pode \"\n",
    "                             \"ser apagado.\".format(h5_filename))\n",
    "        \n",
    "        h5_fout = h5py.File(h5_filename)\n",
    "        h5_fout.create_dataset('data', data=data, compression='gzip', compression_opts=4,dtype=data_dtype)\n",
    "        h5_fout.create_dataset('label', data=label, compression='gzip', compression_opts=1,dtype=label_dtype)\n",
    "        h5_fout.close()\n",
    "    \n",
    "    \n",
    "    def transform(self,Name=\"\"):\n",
    "        self.make_sets()\n",
    "        self.save_h5(Name,self.dados_X,self.dados_y)\n",
    "        print(\"Sucesso. Acessar os arquivos na pasta.\")"
   ]
  },
  {
   "cell_type": "code",
   "execution_count": 3,
   "metadata": {},
   "outputs": [],
   "source": [
    "path = \"DATA/100-300\"\n",
    "attributes = [\"Ar_Bru\",\"Ca_PodVer\",\"Mil_ManTur\",\"Tri_Bru\",\"Tri_Fer\",\"Tri_Oid\"]"
   ]
  },
  {
   "cell_type": "code",
   "execution_count": 4,
   "metadata": {},
   "outputs": [],
   "source": [
    "MakeDataSet = ImageProcessing(path,attributes)"
   ]
  },
  {
   "cell_type": "code",
   "execution_count": 5,
   "metadata": {},
   "outputs": [
    {
     "name": "stdout",
     "output_type": "stream",
     "text": [
      "Sucesso. Acessar os arquivos na pasta.\n"
     ]
    }
   ],
   "source": [
    "_ = MakeDataSet.transform(\"DataSet\")"
   ]
  },
  {
   "cell_type": "code",
   "execution_count": null,
   "metadata": {},
   "outputs": [],
   "source": [
    "#Passo 2 - Separando base de validação:\n",
    "from sklearn.model_selection import StratifiedShuffleSplit\n",
    "\n",
    "split = StratifiedShuffleSplit(n_splits=1, test_size=0.2, random_state=42)\n",
    "for train_index, val_index in split.split(X, y):\n",
    "    X_train, X_val = X[train_index], X[val_index]\n",
    "    y_train, y_val = y[train_index], y[val_index]"
   ]
  },
  {
   "cell_type": "code",
   "execution_count": null,
   "metadata": {},
   "outputs": [],
   "source": [
    "    def get_files(self, attribute):\n",
    "        files = sorted([os.path.join(self.path, attribute, file)\n",
    "                        for file in os.listdir(self.path + \"/\"+attribute)\n",
    "                        if file.endswith('.jpg')])\n",
    "       \n",
    "    split = StratifiedShuffleSplit(n_splits=1, test_size=0.3, random_state=42)\n",
    "        for train_index, val_index in split.split(X, y):\n",
    "            X_train, X_val = X[train_index], X[val_index]\n",
    "            y_train, y_val = y[train_index], y[val_index]\n",
    "        \n",
    "        \n",
    "        \n",
    "        training = files[:int(len(files) * 0.7)]\n",
    "        test = files[-int(len(files) * 0.3):]\n",
    "        return training , test"
   ]
  }
 ],
 "metadata": {
  "kernelspec": {
   "display_name": "TensorFlow",
   "language": "python",
   "name": "tensorflow"
  },
  "language_info": {
   "codemirror_mode": {
    "name": "ipython",
    "version": 3
   },
   "file_extension": ".py",
   "mimetype": "text/x-python",
   "name": "python",
   "nbconvert_exporter": "python",
   "pygments_lexer": "ipython3",
   "version": "3.7.3"
  }
 },
 "nbformat": 4,
 "nbformat_minor": 2
}
