{
 "cells": [
  {
   "cell_type": "code",
   "execution_count": 58,
   "metadata": {},
   "outputs": [],
   "source": [
    "import os\n",
    "import h5py\n",
    "import matplotlib.pyplot as plt\n",
    "import numpy as np\n",
    "import pandas as pd\n",
    "from scipy.ndimage.interpolation import shift\n",
    "from sklearn.base import BaseEstimator\n",
    "from sklearn.base import TransformerMixin\n",
    "%matplotlib inline"
   ]
  },
  {
   "cell_type": "code",
   "execution_count": 59,
   "metadata": {},
   "outputs": [],
   "source": [
    "class load_reshape(BaseEstimator,TransformerMixin):\n",
    "    \n",
    "    def __init__(self,Train=\"\",Test=\"\"):\n",
    "        self.TrainFileName = Train\n",
    "        self.TestFileName = Test\n",
    "        self.X_train = []\n",
    "        self.y_train = []\n",
    "        self.X_test = []\n",
    "        self.y_test = []\n",
    "        \n",
    "    def fit(self,*_):\n",
    "        return self\n",
    "\n",
    "    def transform(self,*_):\n",
    "        T = h5py.File(self.TrainFileName)\n",
    "        t = h5py.File(self.TestFileName)\n",
    "        self.X_train = T['data'][:]\n",
    "        self.y_train = T['label'][:]\n",
    "        self.X_test= t['data'][:]\n",
    "        self.y_test = t['label'][:]\n",
    "        \n",
    "        self.X_train = self.X_train.reshape(self.X_train.shape[0],255*255)\n",
    "        self.X_test = self.X_test.reshape(self.X_test.shape[0], 255*255)\n",
    "        return self.X_train, self.y_train, self.X_test, self.y_test"
   ]
  },
  {
   "cell_type": "code",
   "execution_count": 63,
   "metadata": {},
   "outputs": [],
   "source": [
    "class BalancedTrainData(BaseEstimator,TransformerMixin):\n",
    "    def __init__(self,X_Train,y_Train,attributes):\n",
    "        self.X_Train = X_Train\n",
    "        self.y_Train = y_Train\n",
    "        self.attributes = attributes\n",
    "    \n",
    "    def makeDataFrame(self,*_):\n",
    "        Df_train = pd.DataFrame(self.X_Train)\n",
    "        Df_train['label'] = self.y_Train\n",
    "        return Df_train\n",
    "    \n",
    "    def PlotData(self,df,label,State):\n",
    "        if (State == \"Antes\"):\n",
    "            cont_label_1 = df[label].value_counts(sort=False)\n",
    "            plt.figure(1)\n",
    "            plt.pie((cont_label_1/cont_label_1.sum()), labels=self.attributes)\n",
    "            plt.savefig('%s.pdf'%State)\n",
    "        if (State == \"Depois\"):\n",
    "            cont_label_2 = df[label].value_counts(sort=False)\n",
    "            plt.figure(2)\n",
    "            plt.pie((cont_label_2/cont_label_2.sum()), labels=self.attributes)\n",
    "            plt.savefig('%s.pdf'%State)\n",
    "        \n",
    "    def shift_image(self,image,dx,dy,mode=\"\"):\n",
    "        shifted_image = shift(image, [dy, dx], cval=0,mode=mode)\n",
    "        return shifted_image.reshape([-1])\n",
    "        \n",
    "    def Balanced(self,Df_train):\n",
    "        class_ = []\n",
    "        df_class = []\n",
    "        class_ = Df_train.label.value_counts(sort=False)\n",
    "        for i in range (len(class_)):\n",
    "            df_class.append(Df_train[Df_train['label'] == i])\n",
    "        maior = max(class_)\n",
    "        for i in range (len(class_)):\n",
    "            X_class_augmented = []\n",
    "            y_class_augmented = []\n",
    "            if class_[i] < maior:\n",
    "                indice = df_class[i][df_class[i]['label'] == i].index.tolist()\n",
    "                numberToIncrease = np.random.choice(indice, size=maior-class_[i])\n",
    "                contador = 0\n",
    "                for j in numberToIncrease:\n",
    "                    imgToShift = (df_class[i].loc[j].drop('label', axis=0).values).reshape(255,255)\n",
    "                    for dx, dy in ((50, 0), (-50, 0), (0, 50), (0, -50),(20, 0), (-25, 0), (0, 25), (0, -25)):\n",
    "                        image = self.shift_image(imgToShift, dx=dx, dy=dy,mode=\"constant\")\n",
    "                        X_class_augmented.append(image)\n",
    "                        y_class_augmented.append(i)\n",
    "                        contador+=1;\n",
    "                        if(contador==maior-class_[i]):\n",
    "                            break\n",
    "                    if(contador==maior-class_[i]):\n",
    "                        break\n",
    "                X_class_augmented = np.array(X_class_augmented)\n",
    "                y_class_augmented = np.array(y_class_augmented)\n",
    "                img = pd.DataFrame(X_class_augmented)\n",
    "                img['label']=y_class_augmented\n",
    "                df_class[i]= np.concatenate((df_class[i],img),axis=0)\n",
    "              \n",
    "        return df_class\n",
    "        \n",
    "    def fit(seft,*_):\n",
    "        return self\n",
    "    \n",
    "    def transform(self,*_):\n",
    "        Df_Train = self.makeDataFrame()\n",
    "        self.PlotData(Df_Train,\"label\",\"Antes\")\n",
    "        Df_Train = np.concatenate([d for d in self.Balanced(Df_Train)])\n",
    "        Df_Train = pd.DataFrame(Df_Train)\n",
    "        label= Df_Train.columns[-1]\n",
    "        self.PlotData(Df_Train,label,\"Depois\")\n",
    "        print(Df_Train.shape)\n",
    "        X_Train,y_Train = Df_Train.drop(columns=label).values, Df_Train[label].values\n",
    "        return X_Train,y_Train      "
   ]
  },
  {
   "cell_type": "code",
   "execution_count": 61,
   "metadata": {},
   "outputs": [],
   "source": [
    "def save_h5(h5_filename, data, label, data_dtype='float64', label_dtype='int64'):\n",
    "        \n",
    "        if os.path.isfile(h5_filename):\n",
    "            raise ValueError(\"O arquivo '{}' já existe e não pode \"\n",
    "                             \"ser apagado.\".format(h5_filename))\n",
    "        \n",
    "        h5_fout = h5py.File(h5_filename)\n",
    "        h5_fout.create_dataset('data', data=data, compression='gzip', compression_opts=4,dtype=data_dtype)\n",
    "        h5_fout.create_dataset('label', data=label, compression='gzip', compression_opts=1,dtype=label_dtype)\n",
    "        h5_fout.close()\n",
    "        print(\"Arquivo salvo com sucesso.\\n Acessa a sua Pasta\")"
   ]
  },
  {
   "cell_type": "markdown",
   "metadata": {},
   "source": [
    "#### É préciso carregar primeiramente as imagens da base de dados antes de aplicar esse metodo para balancear os dados de Treinamento e aplicar no seguinte os modelos preditivos."
   ]
  },
  {
   "cell_type": "code",
   "execution_count": 64,
   "metadata": {},
   "outputs": [
    {
     "name": "stdout",
     "output_type": "stream",
     "text": [
      "(1584, 65026)\n"
     ]
    },
    {
     "data": {
      "image/png": "[encoded data removed]",
      "text/plain": [
       "<Figure size 432x288 with 1 Axes>"
      ]
     },
     "metadata": {},
     "output_type": "display_data"
    },
    {
     "data": {
      "image/png": "[encoded data removed]",
      "text/plain": [
       "<Figure size 432x288 with 1 Axes>"
      ]
     },
     "metadata": {},
     "output_type": "display_data"
    }
   ],
   "source": [
    "# Definindo os labels da pasta das imagens\n",
    "attributes = [\"Ar_Bru\",\"Ca_PodVer\",\"Mil_ManTur\",\"Tri_Bru\",\"Tri_Fer\",\"Tri_Oid\"]\n",
    "\n",
    "# Carregar na memoria os DataSet\n",
    "Dados = load_reshape(\"TrSet1-3\",\"TeSet1-3\")\n",
    "\n",
    "#Iniciar o carregamento dos dados de Treinamento e de Test\n",
    "X_Train,y_Train,X_test,y_test = Dados.transform()\n",
    "\n",
    "# Balancear a base de Treinamento\n",
    "Bal = BalancedTrainData(X_Train,y_Train,attributes)\n",
    "X_Train , y_Train = Bal.transform()\n",
    "\n",
    "# #Salvar os Dados de Treinamento aumentado\n",
    "# save_h5(\"TrSetIncr\",X_Train,y_Train)"
   ]
  },
  {
   "cell_type": "code",
   "execution_count": 37,
   "metadata": {},
   "outputs": [
    {
     "data": {
      "text/plain": [
       "(1584, 65025)"
      ]
     },
     "execution_count": 37,
     "metadata": {},
     "output_type": "execute_result"
    }
   ],
   "source": [
    "X_Train.shape"
   ]
  },
  {
   "cell_type": "code",
   "execution_count": null,
   "metadata": {},
   "outputs": [],
   "source": []
  }
 ],
 "metadata": {
  "kernelspec": {
   "display_name": "TensorFlow",
   "language": "python",
   "name": "tensorflow"
  },
  "language_info": {
   "codemirror_mode": {
    "name": "ipython",
    "version": 3
   },
   "file_extension": ".py",
   "mimetype": "text/x-python",
   "name": "python",
   "nbconvert_exporter": "python",
   "pygments_lexer": "ipython3",
   "version": "3.7.3"
  }
 },
 "nbformat": 4,
 "nbformat_minor": 2
}
